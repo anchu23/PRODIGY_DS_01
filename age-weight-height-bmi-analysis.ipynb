{
 "cells": [
  {
   "cell_type": "markdown",
   "id": "ec7e60d0",
   "metadata": {
    "papermill": {
     "duration": 0.009434,
     "end_time": "2023-09-12T03:37:53.237379",
     "exception": false,
     "start_time": "2023-09-12T03:37:53.227945",
     "status": "completed"
    },
    "tags": []
   },
   "source": [
    "**Import Libraries**"
   ]
  },
  {
   "cell_type": "code",
   "execution_count": 1,
   "id": "d065ad3c",
   "metadata": {
    "_cell_guid": "b1076dfc-b9ad-4769-8c92-a6c4dae69d19",
    "_uuid": "8f2839f25d086af736a60e9eeb907d3b93b6e0e5",
    "execution": {
     "iopub.execute_input": "2023-09-12T03:37:53.257791Z",
     "iopub.status.busy": "2023-09-12T03:37:53.257033Z",
     "iopub.status.idle": "2023-09-12T03:37:56.242065Z",
     "shell.execute_reply": "2023-09-12T03:37:56.241006Z"
    },
    "papermill": {
     "duration": 2.997869,
     "end_time": "2023-09-12T03:37:56.244583",
     "exception": false,
     "start_time": "2023-09-12T03:37:53.246714",
     "status": "completed"
    },
    "tags": []
   },
   "outputs": [],
   "source": [
    "import numpy as np \n",
    "import pandas as pd\n",
    "import matplotlib.pyplot as plt\n",
    "import seaborn as sns\n",
    "import warnings\n",
    "warnings.filterwarnings('ignore')\n",
    "\n",
    "#SKLearn Libraries\n",
    "from sklearn.preprocessing import LabelEncoder\n",
    "from sklearn.linear_model import LogisticRegression, LinearRegression\n",
    "from sklearn.ensemble import RandomForestClassifier\n",
    "from sklearn.model_selection import train_test_split, cross_val_score\n",
    "from sklearn.metrics import accuracy_score, classification_report, mean_squared_error, r2_score"
   ]
  },
  {
   "cell_type": "markdown",
   "id": "42a01d03",
   "metadata": {
    "papermill": {
     "duration": 0.008465,
     "end_time": "2023-09-12T03:37:56.262339",
     "exception": false,
     "start_time": "2023-09-12T03:37:56.253874",
     "status": "completed"
    },
    "tags": []
   },
   "source": [
    "**Load Dataset**"
   ]
  },
  {
   "cell_type": "code",
   "execution_count": 2,
   "id": "61760bb3",
   "metadata": {
    "execution": {
     "iopub.execute_input": "2023-09-12T03:37:56.282274Z",
     "iopub.status.busy": "2023-09-12T03:37:56.281715Z",
     "iopub.status.idle": "2023-09-12T03:37:56.305974Z",
     "shell.execute_reply": "2023-09-12T03:37:56.304372Z"
    },
    "papermill": {
     "duration": 0.03809,
     "end_time": "2023-09-12T03:37:56.309034",
     "exception": false,
     "start_time": "2023-09-12T03:37:56.270944",
     "status": "completed"
    },
    "tags": []
   },
   "outputs": [],
   "source": [
    "df = pd.read_csv('/kaggle/input/age-weight-height-bmi-analysis/bmi.csv')"
   ]
  },
  {
   "cell_type": "code",
   "execution_count": 3,
   "id": "49379abc",
   "metadata": {
    "execution": {
     "iopub.execute_input": "2023-09-12T03:37:56.330007Z",
     "iopub.status.busy": "2023-09-12T03:37:56.329488Z",
     "iopub.status.idle": "2023-09-12T03:37:56.359295Z",
     "shell.execute_reply": "2023-09-12T03:37:56.357915Z"
    },
    "papermill": {
     "duration": 0.043947,
     "end_time": "2023-09-12T03:37:56.361888",
     "exception": false,
     "start_time": "2023-09-12T03:37:56.317941",
     "status": "completed"
    },
    "tags": []
   },
   "outputs": [
    {
     "data": {
      "text/html": [
       "<div>\n",
       "<style scoped>\n",
       "    .dataframe tbody tr th:only-of-type {\n",
       "        vertical-align: middle;\n",
       "    }\n",
       "\n",
       "    .dataframe tbody tr th {\n",
       "        vertical-align: top;\n",
       "    }\n",
       "\n",
       "    .dataframe thead th {\n",
       "        text-align: right;\n",
       "    }\n",
       "</style>\n",
       "<table border=\"1\" class=\"dataframe\">\n",
       "  <thead>\n",
       "    <tr style=\"text-align: right;\">\n",
       "      <th></th>\n",
       "      <th>Age</th>\n",
       "      <th>Height</th>\n",
       "      <th>Weight</th>\n",
       "      <th>Bmi</th>\n",
       "      <th>BmiClass</th>\n",
       "    </tr>\n",
       "  </thead>\n",
       "  <tbody>\n",
       "    <tr>\n",
       "      <th>0</th>\n",
       "      <td>61</td>\n",
       "      <td>1.85</td>\n",
       "      <td>109.30</td>\n",
       "      <td>31.935720</td>\n",
       "      <td>Obese Class 1</td>\n",
       "    </tr>\n",
       "    <tr>\n",
       "      <th>1</th>\n",
       "      <td>60</td>\n",
       "      <td>1.71</td>\n",
       "      <td>79.02</td>\n",
       "      <td>27.023700</td>\n",
       "      <td>Overweight</td>\n",
       "    </tr>\n",
       "    <tr>\n",
       "      <th>2</th>\n",
       "      <td>60</td>\n",
       "      <td>1.55</td>\n",
       "      <td>74.70</td>\n",
       "      <td>31.092612</td>\n",
       "      <td>Obese Class 1</td>\n",
       "    </tr>\n",
       "    <tr>\n",
       "      <th>3</th>\n",
       "      <td>60</td>\n",
       "      <td>1.46</td>\n",
       "      <td>35.90</td>\n",
       "      <td>16.841809</td>\n",
       "      <td>Underweight</td>\n",
       "    </tr>\n",
       "    <tr>\n",
       "      <th>4</th>\n",
       "      <td>60</td>\n",
       "      <td>1.58</td>\n",
       "      <td>97.10</td>\n",
       "      <td>38.896010</td>\n",
       "      <td>Obese Class 2</td>\n",
       "    </tr>\n",
       "  </tbody>\n",
       "</table>\n",
       "</div>"
      ],
      "text/plain": [
       "   Age  Height  Weight        Bmi       BmiClass\n",
       "0   61    1.85  109.30  31.935720  Obese Class 1\n",
       "1   60    1.71   79.02  27.023700     Overweight\n",
       "2   60    1.55   74.70  31.092612  Obese Class 1\n",
       "3   60    1.46   35.90  16.841809    Underweight\n",
       "4   60    1.58   97.10  38.896010  Obese Class 2"
      ]
     },
     "execution_count": 3,
     "metadata": {},
     "output_type": "execute_result"
    }
   ],
   "source": [
    "df.head()"
   ]
  },
  {
   "cell_type": "code",
   "execution_count": 4,
   "id": "6886e0e1",
   "metadata": {
    "execution": {
     "iopub.execute_input": "2023-09-12T03:37:56.382614Z",
     "iopub.status.busy": "2023-09-12T03:37:56.381857Z",
     "iopub.status.idle": "2023-09-12T03:37:56.388657Z",
     "shell.execute_reply": "2023-09-12T03:37:56.387467Z"
    },
    "papermill": {
     "duration": 0.019906,
     "end_time": "2023-09-12T03:37:56.391014",
     "exception": false,
     "start_time": "2023-09-12T03:37:56.371108",
     "status": "completed"
    },
    "tags": []
   },
   "outputs": [
    {
     "data": {
      "text/plain": [
       "(741, 5)"
      ]
     },
     "execution_count": 4,
     "metadata": {},
     "output_type": "execute_result"
    }
   ],
   "source": [
    "df.shape"
   ]
  },
  {
   "cell_type": "code",
   "execution_count": 5,
   "id": "bd854681",
   "metadata": {
    "execution": {
     "iopub.execute_input": "2023-09-12T03:37:56.411901Z",
     "iopub.status.busy": "2023-09-12T03:37:56.410906Z",
     "iopub.status.idle": "2023-09-12T03:37:56.441375Z",
     "shell.execute_reply": "2023-09-12T03:37:56.439794Z"
    },
    "papermill": {
     "duration": 0.043765,
     "end_time": "2023-09-12T03:37:56.443835",
     "exception": false,
     "start_time": "2023-09-12T03:37:56.400070",
     "status": "completed"
    },
    "tags": []
   },
   "outputs": [
    {
     "name": "stdout",
     "output_type": "stream",
     "text": [
      "<class 'pandas.core.frame.DataFrame'>\n",
      "RangeIndex: 741 entries, 0 to 740\n",
      "Data columns (total 5 columns):\n",
      " #   Column    Non-Null Count  Dtype  \n",
      "---  ------    --------------  -----  \n",
      " 0   Age       741 non-null    int64  \n",
      " 1   Height    741 non-null    float64\n",
      " 2   Weight    741 non-null    float64\n",
      " 3   Bmi       741 non-null    float64\n",
      " 4   BmiClass  741 non-null    object \n",
      "dtypes: float64(3), int64(1), object(1)\n",
      "memory usage: 29.1+ KB\n"
     ]
    }
   ],
   "source": [
    "df.info()"
   ]
  },
  {
   "cell_type": "markdown",
   "id": "178bb464",
   "metadata": {
    "papermill": {
     "duration": 0.008966,
     "end_time": "2023-09-12T03:37:56.462332",
     "exception": false,
     "start_time": "2023-09-12T03:37:56.453366",
     "status": "completed"
    },
    "tags": []
   },
   "source": [
    "**Dataset Summary**"
   ]
  },
  {
   "cell_type": "code",
   "execution_count": 6,
   "id": "610bf95d",
   "metadata": {
    "execution": {
     "iopub.execute_input": "2023-09-12T03:37:56.482375Z",
     "iopub.status.busy": "2023-09-12T03:37:56.481929Z",
     "iopub.status.idle": "2023-09-12T03:37:56.487990Z",
     "shell.execute_reply": "2023-09-12T03:37:56.487125Z"
    },
    "papermill": {
     "duration": 0.01852,
     "end_time": "2023-09-12T03:37:56.490235",
     "exception": false,
     "start_time": "2023-09-12T03:37:56.471715",
     "status": "completed"
    },
    "tags": []
   },
   "outputs": [],
   "source": [
    "cats = df.select_dtypes(include='object').columns.tolist()\n",
    "nums = df.select_dtypes(exclude='object').columns.tolist()"
   ]
  },
  {
   "cell_type": "code",
   "execution_count": 7,
   "id": "6ff9ef6f",
   "metadata": {
    "execution": {
     "iopub.execute_input": "2023-09-12T03:37:56.511411Z",
     "iopub.status.busy": "2023-09-12T03:37:56.510221Z",
     "iopub.status.idle": "2023-09-12T03:37:56.528261Z",
     "shell.execute_reply": "2023-09-12T03:37:56.527019Z"
    },
    "papermill": {
     "duration": 0.030953,
     "end_time": "2023-09-12T03:37:56.530711",
     "exception": false,
     "start_time": "2023-09-12T03:37:56.499758",
     "status": "completed"
    },
    "tags": []
   },
   "outputs": [
    {
     "data": {
      "text/html": [
       "<div>\n",
       "<style scoped>\n",
       "    .dataframe tbody tr th:only-of-type {\n",
       "        vertical-align: middle;\n",
       "    }\n",
       "\n",
       "    .dataframe tbody tr th {\n",
       "        vertical-align: top;\n",
       "    }\n",
       "\n",
       "    .dataframe thead th {\n",
       "        text-align: right;\n",
       "    }\n",
       "</style>\n",
       "<table border=\"1\" class=\"dataframe\">\n",
       "  <thead>\n",
       "    <tr style=\"text-align: right;\">\n",
       "      <th></th>\n",
       "      <th>BmiClass</th>\n",
       "    </tr>\n",
       "  </thead>\n",
       "  <tbody>\n",
       "    <tr>\n",
       "      <th>count</th>\n",
       "      <td>741</td>\n",
       "    </tr>\n",
       "    <tr>\n",
       "      <th>unique</th>\n",
       "      <td>6</td>\n",
       "    </tr>\n",
       "    <tr>\n",
       "      <th>top</th>\n",
       "      <td>Normal Weight</td>\n",
       "    </tr>\n",
       "    <tr>\n",
       "      <th>freq</th>\n",
       "      <td>342</td>\n",
       "    </tr>\n",
       "  </tbody>\n",
       "</table>\n",
       "</div>"
      ],
      "text/plain": [
       "             BmiClass\n",
       "count             741\n",
       "unique              6\n",
       "top     Normal Weight\n",
       "freq              342"
      ]
     },
     "execution_count": 7,
     "metadata": {},
     "output_type": "execute_result"
    }
   ],
   "source": [
    "df[cats].describe()"
   ]
  },
  {
   "cell_type": "code",
   "execution_count": 8,
   "id": "db2d117f",
   "metadata": {
    "execution": {
     "iopub.execute_input": "2023-09-12T03:37:56.554189Z",
     "iopub.status.busy": "2023-09-12T03:37:56.553510Z",
     "iopub.status.idle": "2023-09-12T03:37:56.581908Z",
     "shell.execute_reply": "2023-09-12T03:37:56.580670Z"
    },
    "papermill": {
     "duration": 0.043912,
     "end_time": "2023-09-12T03:37:56.584591",
     "exception": false,
     "start_time": "2023-09-12T03:37:56.540679",
     "status": "completed"
    },
    "tags": []
   },
   "outputs": [
    {
     "data": {
      "text/html": [
       "<div>\n",
       "<style scoped>\n",
       "    .dataframe tbody tr th:only-of-type {\n",
       "        vertical-align: middle;\n",
       "    }\n",
       "\n",
       "    .dataframe tbody tr th {\n",
       "        vertical-align: top;\n",
       "    }\n",
       "\n",
       "    .dataframe thead th {\n",
       "        text-align: right;\n",
       "    }\n",
       "</style>\n",
       "<table border=\"1\" class=\"dataframe\">\n",
       "  <thead>\n",
       "    <tr style=\"text-align: right;\">\n",
       "      <th></th>\n",
       "      <th>Age</th>\n",
       "      <th>Height</th>\n",
       "      <th>Weight</th>\n",
       "      <th>Bmi</th>\n",
       "    </tr>\n",
       "  </thead>\n",
       "  <tbody>\n",
       "    <tr>\n",
       "      <th>count</th>\n",
       "      <td>741.000000</td>\n",
       "      <td>741.000000</td>\n",
       "      <td>741.000000</td>\n",
       "      <td>741.000000</td>\n",
       "    </tr>\n",
       "    <tr>\n",
       "      <th>mean</th>\n",
       "      <td>31.618084</td>\n",
       "      <td>1.709427</td>\n",
       "      <td>78.412497</td>\n",
       "      <td>26.365427</td>\n",
       "    </tr>\n",
       "    <tr>\n",
       "      <th>std</th>\n",
       "      <td>11.655466</td>\n",
       "      <td>0.085974</td>\n",
       "      <td>32.254547</td>\n",
       "      <td>9.223191</td>\n",
       "    </tr>\n",
       "    <tr>\n",
       "      <th>min</th>\n",
       "      <td>15.000000</td>\n",
       "      <td>1.460000</td>\n",
       "      <td>25.900000</td>\n",
       "      <td>12.150497</td>\n",
       "    </tr>\n",
       "    <tr>\n",
       "      <th>25%</th>\n",
       "      <td>22.000000</td>\n",
       "      <td>1.670000</td>\n",
       "      <td>63.000000</td>\n",
       "      <td>22.129740</td>\n",
       "    </tr>\n",
       "    <tr>\n",
       "      <th>50%</th>\n",
       "      <td>29.000000</td>\n",
       "      <td>1.721000</td>\n",
       "      <td>72.900000</td>\n",
       "      <td>24.132412</td>\n",
       "    </tr>\n",
       "    <tr>\n",
       "      <th>75%</th>\n",
       "      <td>40.000000</td>\n",
       "      <td>1.751000</td>\n",
       "      <td>83.300000</td>\n",
       "      <td>27.249306</td>\n",
       "    </tr>\n",
       "    <tr>\n",
       "      <th>max</th>\n",
       "      <td>61.000000</td>\n",
       "      <td>2.070000</td>\n",
       "      <td>270.000000</td>\n",
       "      <td>66.301350</td>\n",
       "    </tr>\n",
       "  </tbody>\n",
       "</table>\n",
       "</div>"
      ],
      "text/plain": [
       "              Age      Height      Weight         Bmi\n",
       "count  741.000000  741.000000  741.000000  741.000000\n",
       "mean    31.618084    1.709427   78.412497   26.365427\n",
       "std     11.655466    0.085974   32.254547    9.223191\n",
       "min     15.000000    1.460000   25.900000   12.150497\n",
       "25%     22.000000    1.670000   63.000000   22.129740\n",
       "50%     29.000000    1.721000   72.900000   24.132412\n",
       "75%     40.000000    1.751000   83.300000   27.249306\n",
       "max     61.000000    2.070000  270.000000   66.301350"
      ]
     },
     "execution_count": 8,
     "metadata": {},
     "output_type": "execute_result"
    }
   ],
   "source": [
    "df[nums].describe()"
   ]
  },
  {
   "cell_type": "markdown",
   "id": "893ee8d4",
   "metadata": {
    "papermill": {
     "duration": 0.009811,
     "end_time": "2023-09-12T03:37:56.604147",
     "exception": false,
     "start_time": "2023-09-12T03:37:56.594336",
     "status": "completed"
    },
    "tags": []
   },
   "source": [
    "**Data Visualization**"
   ]
  },
  {
   "cell_type": "code",
   "execution_count": 9,
   "id": "792e4842",
   "metadata": {
    "execution": {
     "iopub.execute_input": "2023-09-12T03:37:56.625717Z",
     "iopub.status.busy": "2023-09-12T03:37:56.625289Z",
     "iopub.status.idle": "2023-09-12T03:37:57.386914Z",
     "shell.execute_reply": "2023-09-12T03:37:57.385646Z"
    },
    "papermill": {
     "duration": 0.775336,
     "end_time": "2023-09-12T03:37:57.389545",
     "exception": false,
     "start_time": "2023-09-12T03:37:56.614209",
     "status": "completed"
    },
    "tags": []
   },
   "outputs": [
    {
     "data": {
      "image/png": "[encoded data removed]",
      "text/plain": [
       "<Figure size 1000x500 with 4 Axes>"
      ]
     },
     "metadata": {},
     "output_type": "display_data"
    }
   ],
   "source": [
    "plt.figure(figsize=(10,5))\n",
    "for i in range(0, len(nums)):\n",
    "    plt.subplot(1, len(nums), i+1)\n",
    "    sns.boxplot(y=df[nums[i]], color='blue', orient='v')\n",
    "    plt.tight_layout()"
   ]
  },
  {
   "cell_type": "code",
   "execution_count": 10,
   "id": "df3e2bb4",
   "metadata": {
    "execution": {
     "iopub.execute_input": "2023-09-12T03:37:57.412841Z",
     "iopub.status.busy": "2023-09-12T03:37:57.412278Z",
     "iopub.status.idle": "2023-09-12T03:37:58.627338Z",
     "shell.execute_reply": "2023-09-12T03:37:58.626188Z"
    },
    "papermill": {
     "duration": 1.230147,
     "end_time": "2023-09-12T03:37:58.630167",
     "exception": false,
     "start_time": "2023-09-12T03:37:57.400020",
     "status": "completed"
    },
    "tags": []
   },
   "outputs": [
    {
     "data": {
      "image/png": "[encoded data removed]",
      "text/plain": [
       "<Figure size 1000x500 with 4 Axes>"
      ]
     },
     "metadata": {},
     "output_type": "display_data"
    }
   ],
   "source": [
    "plt.figure(figsize=(10,5))\n",
    "for i in range(0, len(nums)):\n",
    "    plt.subplot(2, len(nums)//2, i+1)\n",
    "    sns.kdeplot(df[nums[i]], color='blue')\n",
    "    plt.tight_layout()"
   ]
  },
  {
   "cell_type": "code",
   "execution_count": 11,
   "id": "5b23e11a",
   "metadata": {
    "execution": {
     "iopub.execute_input": "2023-09-12T03:37:58.655835Z",
     "iopub.status.busy": "2023-09-12T03:37:58.655411Z",
     "iopub.status.idle": "2023-09-12T03:37:58.952710Z",
     "shell.execute_reply": "2023-09-12T03:37:58.951771Z"
    },
    "papermill": {
     "duration": 0.312233,
     "end_time": "2023-09-12T03:37:58.955191",
     "exception": false,
     "start_time": "2023-09-12T03:37:58.642958",
     "status": "completed"
    },
    "tags": []
   },
   "outputs": [
    {
     "data": {
      "image/png": "[encoded data removed]",
      "text/plain": [
       "<Figure size 1200x800 with 1 Axes>"
      ]
     },
     "metadata": {},
     "output_type": "display_data"
    }
   ],
   "source": [
    "plt.figure(figsize=(12,8))\n",
    "\n",
    "for i in range(0, len(cats)):\n",
    "    plt.subplot(2,3,i+1)\n",
    "    sns.countplot(x=df[cats[i]], order=df[cats[i]].value_counts().index)\n",
    "    plt.xlabel(cats[i])\n",
    "    plt.xticks(rotation=20)\n",
    "    plt.tight_layout()"
   ]
  },
  {
   "cell_type": "code",
   "execution_count": 12,
   "id": "dc49d5ab",
   "metadata": {
    "execution": {
     "iopub.execute_input": "2023-09-12T03:37:58.981025Z",
     "iopub.status.busy": "2023-09-12T03:37:58.980049Z",
     "iopub.status.idle": "2023-09-12T03:37:59.323263Z",
     "shell.execute_reply": "2023-09-12T03:37:59.322022Z"
    },
    "papermill": {
     "duration": 0.358999,
     "end_time": "2023-09-12T03:37:59.325933",
     "exception": false,
     "start_time": "2023-09-12T03:37:58.966934",
     "status": "completed"
    },
    "tags": []
   },
   "outputs": [
    {
     "data": {
      "text/plain": [
       "<Axes: >"
      ]
     },
     "execution_count": 12,
     "metadata": {},
     "output_type": "execute_result"
    },
    {
     "data": {
      "image/png": "[encoded data removed]",
      "text/plain": [
       "<Figure size 800x500 with 2 Axes>"
      ]
     },
     "metadata": {},
     "output_type": "display_data"
    }
   ],
   "source": [
    "plt.figure(figsize=(8, 5))\n",
    "sns.heatmap(df[nums].corr(), cmap='coolwarm', annot=True, fmt='.2f')"
   ]
  },
  {
   "cell_type": "markdown",
   "id": "72c6df09",
   "metadata": {
    "papermill": {
     "duration": 0.012063,
     "end_time": "2023-09-12T03:37:59.350411",
     "exception": false,
     "start_time": "2023-09-12T03:37:59.338348",
     "status": "completed"
    },
    "tags": []
   },
   "source": [
    "**Label Encoder**"
   ]
  },
  {
   "cell_type": "code",
   "execution_count": 13,
   "id": "563ffd06",
   "metadata": {
    "execution": {
     "iopub.execute_input": "2023-09-12T03:37:59.377970Z",
     "iopub.status.busy": "2023-09-12T03:37:59.377525Z",
     "iopub.status.idle": "2023-09-12T03:37:59.391904Z",
     "shell.execute_reply": "2023-09-12T03:37:59.390720Z"
    },
    "papermill": {
     "duration": 0.031372,
     "end_time": "2023-09-12T03:37:59.394277",
     "exception": false,
     "start_time": "2023-09-12T03:37:59.362905",
     "status": "completed"
    },
    "tags": []
   },
   "outputs": [
    {
     "data": {
      "text/html": [
       "<div>\n",
       "<style scoped>\n",
       "    .dataframe tbody tr th:only-of-type {\n",
       "        vertical-align: middle;\n",
       "    }\n",
       "\n",
       "    .dataframe tbody tr th {\n",
       "        vertical-align: top;\n",
       "    }\n",
       "\n",
       "    .dataframe thead th {\n",
       "        text-align: right;\n",
       "    }\n",
       "</style>\n",
       "<table border=\"1\" class=\"dataframe\">\n",
       "  <thead>\n",
       "    <tr style=\"text-align: right;\">\n",
       "      <th></th>\n",
       "      <th>Age</th>\n",
       "      <th>Height</th>\n",
       "      <th>Weight</th>\n",
       "      <th>Bmi</th>\n",
       "      <th>BmiClass</th>\n",
       "    </tr>\n",
       "  </thead>\n",
       "  <tbody>\n",
       "    <tr>\n",
       "      <th>0</th>\n",
       "      <td>61</td>\n",
       "      <td>1.85</td>\n",
       "      <td>109.30</td>\n",
       "      <td>31.935720</td>\n",
       "      <td>1</td>\n",
       "    </tr>\n",
       "    <tr>\n",
       "      <th>1</th>\n",
       "      <td>60</td>\n",
       "      <td>1.71</td>\n",
       "      <td>79.02</td>\n",
       "      <td>27.023700</td>\n",
       "      <td>4</td>\n",
       "    </tr>\n",
       "    <tr>\n",
       "      <th>2</th>\n",
       "      <td>60</td>\n",
       "      <td>1.55</td>\n",
       "      <td>74.70</td>\n",
       "      <td>31.092612</td>\n",
       "      <td>1</td>\n",
       "    </tr>\n",
       "    <tr>\n",
       "      <th>3</th>\n",
       "      <td>60</td>\n",
       "      <td>1.46</td>\n",
       "      <td>35.90</td>\n",
       "      <td>16.841809</td>\n",
       "      <td>5</td>\n",
       "    </tr>\n",
       "    <tr>\n",
       "      <th>4</th>\n",
       "      <td>60</td>\n",
       "      <td>1.58</td>\n",
       "      <td>97.10</td>\n",
       "      <td>38.896010</td>\n",
       "      <td>2</td>\n",
       "    </tr>\n",
       "  </tbody>\n",
       "</table>\n",
       "</div>"
      ],
      "text/plain": [
       "   Age  Height  Weight        Bmi  BmiClass\n",
       "0   61    1.85  109.30  31.935720         1\n",
       "1   60    1.71   79.02  27.023700         4\n",
       "2   60    1.55   74.70  31.092612         1\n",
       "3   60    1.46   35.90  16.841809         5\n",
       "4   60    1.58   97.10  38.896010         2"
      ]
     },
     "execution_count": 13,
     "metadata": {},
     "output_type": "execute_result"
    }
   ],
   "source": [
    "label_encoder = LabelEncoder()\n",
    "df['BmiClass'] = label_encoder.fit_transform(df['BmiClass'])\n",
    "df.head()"
   ]
  },
  {
   "cell_type": "markdown",
   "id": "34491e58",
   "metadata": {
    "papermill": {
     "duration": 0.011879,
     "end_time": "2023-09-12T03:37:59.418617",
     "exception": false,
     "start_time": "2023-09-12T03:37:59.406738",
     "status": "completed"
    },
    "tags": []
   },
   "source": [
    "**Classification using Logistic Regression**"
   ]
  },
  {
   "cell_type": "code",
   "execution_count": 14,
   "id": "bb7adea9",
   "metadata": {
    "execution": {
     "iopub.execute_input": "2023-09-12T03:37:59.445442Z",
     "iopub.status.busy": "2023-09-12T03:37:59.445017Z",
     "iopub.status.idle": "2023-09-12T03:37:59.452946Z",
     "shell.execute_reply": "2023-09-12T03:37:59.451971Z"
    },
    "papermill": {
     "duration": 0.023922,
     "end_time": "2023-09-12T03:37:59.455089",
     "exception": false,
     "start_time": "2023-09-12T03:37:59.431167",
     "status": "completed"
    },
    "tags": []
   },
   "outputs": [],
   "source": [
    "#Create x & y and split into train and test\n",
    "x = df.drop('BmiClass', axis=1)\n",
    "y = df['BmiClass']\n",
    "\n",
    "X_train, X_test, y_train, y_test = train_test_split(x, y, test_size=0.2, random_state=1)"
   ]
  },
  {
   "cell_type": "code",
   "execution_count": 15,
   "id": "5ee6c1c1",
   "metadata": {
    "execution": {
     "iopub.execute_input": "2023-09-12T03:37:59.482842Z",
     "iopub.status.busy": "2023-09-12T03:37:59.481995Z",
     "iopub.status.idle": "2023-09-12T03:37:59.489748Z",
     "shell.execute_reply": "2023-09-12T03:37:59.488222Z"
    },
    "papermill": {
     "duration": 0.023883,
     "end_time": "2023-09-12T03:37:59.492189",
     "exception": false,
     "start_time": "2023-09-12T03:37:59.468306",
     "status": "completed"
    },
    "tags": []
   },
   "outputs": [
    {
     "name": "stdout",
     "output_type": "stream",
     "text": [
      "X_train shape:  (592, 4)\n",
      "X_test shape:  (149, 4)\n",
      "y_train shape:  (592,)\n",
      "y_test shape:  (149,)\n"
     ]
    }
   ],
   "source": [
    "print('X_train shape: ',X_train.shape)\n",
    "print('X_test shape: ',X_test.shape)\n",
    "print('y_train shape: ',y_train.shape)\n",
    "print('y_test shape: ',y_test.shape)"
   ]
  },
  {
   "cell_type": "code",
   "execution_count": 16,
   "id": "76f9c843",
   "metadata": {
    "execution": {
     "iopub.execute_input": "2023-09-12T03:37:59.521683Z",
     "iopub.status.busy": "2023-09-12T03:37:59.520652Z",
     "iopub.status.idle": "2023-09-12T03:37:59.592789Z",
     "shell.execute_reply": "2023-09-12T03:37:59.590898Z"
    },
    "papermill": {
     "duration": 0.09093,
     "end_time": "2023-09-12T03:37:59.595554",
     "exception": false,
     "start_time": "2023-09-12T03:37:59.504624",
     "status": "completed"
    },
    "tags": []
   },
   "outputs": [
    {
     "name": "stdout",
     "output_type": "stream",
     "text": [
      "Accuracy score:  0.6778523489932886\n",
      "Classification report\n",
      "              precision    recall  f1-score   support\n",
      "\n",
      "           0       0.73      0.95      0.83        62\n",
      "           1       0.00      0.00      0.00         5\n",
      "           2       0.00      0.00      0.00        14\n",
      "           3       0.53      0.73      0.62        11\n",
      "           4       0.52      0.45      0.48        31\n",
      "           5       0.87      0.77      0.82        26\n",
      "\n",
      "    accuracy                           0.68       149\n",
      "   macro avg       0.44      0.48      0.46       149\n",
      "weighted avg       0.60      0.68      0.63       149\n",
      "\n"
     ]
    }
   ],
   "source": [
    "#Train model\n",
    "log_reg = LogisticRegression()\n",
    "log_reg.fit(X_train, y_train)\n",
    "\n",
    "#Predictions\n",
    "y_pred_log = log_reg.predict(X_test)\n",
    "\n",
    "#Evaluate model and show the score\n",
    "print('Accuracy score: ',accuracy_score(y_test, y_pred_log))\n",
    "print('Classification report')\n",
    "print(classification_report(y_test, y_pred_log))"
   ]
  },
  {
   "cell_type": "code",
   "execution_count": 17,
   "id": "35997898",
   "metadata": {
    "execution": {
     "iopub.execute_input": "2023-09-12T03:37:59.632277Z",
     "iopub.status.busy": "2023-09-12T03:37:59.631278Z",
     "iopub.status.idle": "2023-09-12T03:37:59.829177Z",
     "shell.execute_reply": "2023-09-12T03:37:59.828052Z"
    },
    "papermill": {
     "duration": 0.220248,
     "end_time": "2023-09-12T03:37:59.831814",
     "exception": false,
     "start_time": "2023-09-12T03:37:59.611566",
     "status": "completed"
    },
    "tags": []
   },
   "outputs": [
    {
     "data": {
      "text/plain": [
       "0.6571286051151823"
      ]
     },
     "execution_count": 17,
     "metadata": {},
     "output_type": "execute_result"
    }
   ],
   "source": [
    "score = cross_val_score(log_reg, x, y, cv=5)\n",
    "score.mean()"
   ]
  },
  {
   "cell_type": "markdown",
   "id": "299061f7",
   "metadata": {
    "papermill": {
     "duration": 0.013141,
     "end_time": "2023-09-12T03:37:59.857486",
     "exception": false,
     "start_time": "2023-09-12T03:37:59.844345",
     "status": "completed"
    },
    "tags": []
   },
   "source": [
    "**Linear Regression**"
   ]
  },
  {
   "cell_type": "code",
   "execution_count": 18,
   "id": "61f36dd3",
   "metadata": {
    "execution": {
     "iopub.execute_input": "2023-09-12T03:37:59.886112Z",
     "iopub.status.busy": "2023-09-12T03:37:59.884942Z",
     "iopub.status.idle": "2023-09-12T03:37:59.894167Z",
     "shell.execute_reply": "2023-09-12T03:37:59.893207Z"
    },
    "papermill": {
     "duration": 0.025505,
     "end_time": "2023-09-12T03:37:59.896441",
     "exception": false,
     "start_time": "2023-09-12T03:37:59.870936",
     "status": "completed"
    },
    "tags": []
   },
   "outputs": [],
   "source": [
    "#Create x & y and split into train and test\n",
    "x = df[['Age', 'Height', 'Weight']]\n",
    "y = df['Bmi']\n",
    "\n",
    "X_train, X_test, y_train, y_test = train_test_split(x, y, test_size=0.2, random_state=1)"
   ]
  },
  {
   "cell_type": "code",
   "execution_count": 19,
   "id": "10f5f791",
   "metadata": {
    "execution": {
     "iopub.execute_input": "2023-09-12T03:37:59.929326Z",
     "iopub.status.busy": "2023-09-12T03:37:59.928462Z",
     "iopub.status.idle": "2023-09-12T03:37:59.934856Z",
     "shell.execute_reply": "2023-09-12T03:37:59.933452Z"
    },
    "papermill": {
     "duration": 0.02522,
     "end_time": "2023-09-12T03:37:59.937343",
     "exception": false,
     "start_time": "2023-09-12T03:37:59.912123",
     "status": "completed"
    },
    "tags": []
   },
   "outputs": [
    {
     "name": "stdout",
     "output_type": "stream",
     "text": [
      "X_train shape:  (592, 3)\n",
      "X_test shape:  (149, 3)\n",
      "y_train shape:  (592,)\n",
      "y_test shape:  (149,)\n"
     ]
    }
   ],
   "source": [
    "print('X_train shape: ',X_train.shape)\n",
    "print('X_test shape: ',X_test.shape)\n",
    "print('y_train shape: ',y_train.shape)\n",
    "print('y_test shape: ',y_test.shape)"
   ]
  },
  {
   "cell_type": "code",
   "execution_count": 20,
   "id": "7c39584c",
   "metadata": {
    "execution": {
     "iopub.execute_input": "2023-09-12T03:38:00.037453Z",
     "iopub.status.busy": "2023-09-12T03:38:00.036642Z",
     "iopub.status.idle": "2023-09-12T03:38:00.066933Z",
     "shell.execute_reply": "2023-09-12T03:38:00.065729Z"
    },
    "papermill": {
     "duration": 0.049611,
     "end_time": "2023-09-12T03:38:00.069441",
     "exception": false,
     "start_time": "2023-09-12T03:38:00.019830",
     "status": "completed"
    },
    "tags": []
   },
   "outputs": [
    {
     "name": "stdout",
     "output_type": "stream",
     "text": [
      "Mean Squared Error:  2.3731065115176837\n",
      "R-Squared:  0.9711229740615392\n"
     ]
    }
   ],
   "source": [
    "#Train model\n",
    "lin_reg = LinearRegression()\n",
    "lin_reg.fit(X_train, y_train)\n",
    "\n",
    "#Predictions\n",
    "y_pred_lin = lin_reg.predict(X_test)\n",
    "\n",
    "#Evaluate model and show the score\n",
    "print('Mean Squared Error: ',mean_squared_error(y_test, y_pred_lin))\n",
    "print('R-Squared: ',r2_score(y_test, y_pred_lin))"
   ]
  },
  {
   "cell_type": "code",
   "execution_count": 21,
   "id": "21549f01",
   "metadata": {
    "execution": {
     "iopub.execute_input": "2023-09-12T03:38:00.098196Z",
     "iopub.status.busy": "2023-09-12T03:38:00.097815Z",
     "iopub.status.idle": "2023-09-12T03:38:00.135925Z",
     "shell.execute_reply": "2023-09-12T03:38:00.134906Z"
    },
    "papermill": {
     "duration": 0.056147,
     "end_time": "2023-09-12T03:38:00.138680",
     "exception": false,
     "start_time": "2023-09-12T03:38:00.082533",
     "status": "completed"
    },
    "tags": []
   },
   "outputs": [
    {
     "data": {
      "text/plain": [
       "0.959927277613291"
      ]
     },
     "execution_count": 21,
     "metadata": {},
     "output_type": "execute_result"
    }
   ],
   "source": [
    "score = cross_val_score(lin_reg, x, y, cv=5)\n",
    "score.mean()"
   ]
  },
  {
   "cell_type": "markdown",
   "id": "b06dc98f",
   "metadata": {
    "papermill": {
     "duration": 0.012693,
     "end_time": "2023-09-12T03:38:00.164894",
     "exception": false,
     "start_time": "2023-09-12T03:38:00.152201",
     "status": "completed"
    },
    "tags": []
   },
   "source": [
    "**Random Forest**"
   ]
  },
  {
   "cell_type": "code",
   "execution_count": 22,
   "id": "9b19a278",
   "metadata": {
    "execution": {
     "iopub.execute_input": "2023-09-12T03:38:00.193051Z",
     "iopub.status.busy": "2023-09-12T03:38:00.192647Z",
     "iopub.status.idle": "2023-09-12T03:38:00.201814Z",
     "shell.execute_reply": "2023-09-12T03:38:00.200549Z"
    },
    "papermill": {
     "duration": 0.026758,
     "end_time": "2023-09-12T03:38:00.204541",
     "exception": false,
     "start_time": "2023-09-12T03:38:00.177783",
     "status": "completed"
    },
    "tags": []
   },
   "outputs": [],
   "source": [
    "#Create x & y and split into train and test\n",
    "x = df.drop('BmiClass', axis=1)\n",
    "y = df['BmiClass']\n",
    "\n",
    "X_train, X_test, y_train, y_test = train_test_split(x, y, test_size=0.2, random_state=1)"
   ]
  },
  {
   "cell_type": "code",
   "execution_count": 23,
   "id": "85023bf1",
   "metadata": {
    "execution": {
     "iopub.execute_input": "2023-09-12T03:38:00.234452Z",
     "iopub.status.busy": "2023-09-12T03:38:00.234061Z",
     "iopub.status.idle": "2023-09-12T03:38:00.240949Z",
     "shell.execute_reply": "2023-09-12T03:38:00.239276Z"
    },
    "papermill": {
     "duration": 0.024669,
     "end_time": "2023-09-12T03:38:00.243442",
     "exception": false,
     "start_time": "2023-09-12T03:38:00.218773",
     "status": "completed"
    },
    "tags": []
   },
   "outputs": [
    {
     "name": "stdout",
     "output_type": "stream",
     "text": [
      "X_train shape:  (592, 4)\n",
      "X_test shape:  (149, 4)\n",
      "y_train shape:  (592,)\n",
      "y_test shape:  (149,)\n"
     ]
    }
   ],
   "source": [
    "print('X_train shape: ',X_train.shape)\n",
    "print('X_test shape: ',X_test.shape)\n",
    "print('y_train shape: ',y_train.shape)\n",
    "print('y_test shape: ',y_test.shape)"
   ]
  },
  {
   "cell_type": "code",
   "execution_count": 24,
   "id": "9da90d11",
   "metadata": {
    "execution": {
     "iopub.execute_input": "2023-09-12T03:38:00.272010Z",
     "iopub.status.busy": "2023-09-12T03:38:00.271581Z",
     "iopub.status.idle": "2023-09-12T03:38:00.527879Z",
     "shell.execute_reply": "2023-09-12T03:38:00.526183Z"
    },
    "papermill": {
     "duration": 0.274281,
     "end_time": "2023-09-12T03:38:00.530822",
     "exception": false,
     "start_time": "2023-09-12T03:38:00.256541",
     "status": "completed"
    },
    "tags": []
   },
   "outputs": [
    {
     "name": "stdout",
     "output_type": "stream",
     "text": [
      "Accuracy score:  1.0\n",
      "Classification report\n",
      "              precision    recall  f1-score   support\n",
      "\n",
      "           0       1.00      1.00      1.00        62\n",
      "           1       1.00      1.00      1.00         5\n",
      "           2       1.00      1.00      1.00        14\n",
      "           3       1.00      1.00      1.00        11\n",
      "           4       1.00      1.00      1.00        31\n",
      "           5       1.00      1.00      1.00        26\n",
      "\n",
      "    accuracy                           1.00       149\n",
      "   macro avg       1.00      1.00      1.00       149\n",
      "weighted avg       1.00      1.00      1.00       149\n",
      "\n"
     ]
    }
   ],
   "source": [
    "#Train model\n",
    "random_forest = RandomForestClassifier()\n",
    "random_forest.fit(X_train, y_train)\n",
    "\n",
    "#Predictions\n",
    "y_pred_forest = random_forest.predict(X_test)\n",
    "\n",
    "#Evaluate model and show score\n",
    "print('Accuracy score: ',accuracy_score(y_test, y_pred_forest))\n",
    "print('Classification report')\n",
    "print(classification_report(y_test, y_pred_forest))"
   ]
  },
  {
   "cell_type": "code",
   "execution_count": 25,
   "id": "e624ae2c",
   "metadata": {
    "execution": {
     "iopub.execute_input": "2023-09-12T03:38:00.559700Z",
     "iopub.status.busy": "2023-09-12T03:38:00.559261Z",
     "iopub.status.idle": "2023-09-12T03:38:01.599049Z",
     "shell.execute_reply": "2023-09-12T03:38:01.598001Z"
    },
    "papermill": {
     "duration": 1.057326,
     "end_time": "2023-09-12T03:38:01.601406",
     "exception": false,
     "start_time": "2023-09-12T03:38:00.544080",
     "status": "completed"
    },
    "tags": []
   },
   "outputs": [
    {
     "data": {
      "text/plain": [
       "0.997306366769454"
      ]
     },
     "execution_count": 25,
     "metadata": {},
     "output_type": "execute_result"
    }
   ],
   "source": [
    "score = cross_val_score(random_forest, x, y, cv=5)\n",
    "score.mean()"
   ]
  }
 ],
 "kernelspec": {
  "display_name": "Python 3",
  "language": "python",
  "name": "python3"
 },
 "language_info": {
  "codemirror_mode": {
   "name": "ipython",
   "version": 3
  },
  "file_extension": ".py",
  "mimetype": "text/x-python",
  "name": "python",
  "nbconvert_exporter": "python",
  "pygments_lexer": "ipython3",
  "version": "3.6.4"
 },
 "metadata": {
  "kernelspec": {
   "display_name": "Python 3",
   "language": "python",
   "name": "python3"
  },
  "language_info": {
   "codemirror_mode": {
    "name": "ipython",
    "version": 3
   },
   "file_extension": ".py",
   "mimetype": "text/x-python",
   "name": "python",
   "nbconvert_exporter": "python",
   "pygments_lexer": "ipython3",
   "version": "3.10.12"
  },
  "papermill": {
   "default_parameters": {},
   "duration": 12.5204,
   "end_time": "2023-09-12T03:38:02.340067",
   "environment_variables": {},
   "exception": null,
   "input_path": "__notebook__.ipynb",
   "output_path": "__notebook__.ipynb",
   "parameters": {},
   "start_time": "2023-09-12T03:37:49.819667",
   "version": "2.4.0"
  }
 },
 "nbformat": 4,
 "nbformat_minor": 5
}
